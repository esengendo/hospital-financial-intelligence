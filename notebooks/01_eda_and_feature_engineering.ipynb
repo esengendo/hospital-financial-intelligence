{
 "cells": [
  {
   "cell_type": "raw",
   "metadata": {
    "vscode": {
     "languageId": "raw"
    }
   },
   "source": [
    "# 🏥 Hospital Financial Intelligence - Exploratory Data Analysis\n",
    "\n",
    "## 📊 21-Year Longitudinal Analysis of California Hospital Financial Health\n",
    "\n",
    "**Project Overview:**\n",
    "- **Dataset**: 21 fiscal years (2002-2023) of California hospital financial data\n",
    "- **Source**: California Health & Human Services (CHHS) Financial Disclosure Reports  \n",
    "- **Volume**: 9,500+ hospital records with 1,547-12,476 financial metrics per year\n",
    "- **Quality**: 0.0% missing data in processed files\n",
    "\n",
    "**Analysis Objectives:**\n",
    "1. **Financial Health Trends**: 21-year evolution of hospital financial performance\n",
    "2. **Economic Impact Analysis**: Effects of 2008 recession and COVID-19 pandemic\n",
    "3. **Regional Performance**: Geographic variations across California\n",
    "4. **Risk Factor Identification**: Early warning indicators for financial distress\n",
    "5. **Benchmarking Framework**: Industry-standard performance metrics\n",
    "\n",
    "---\n"
   ]
  },
  {
   "cell_type": "code",
   "execution_count": null,
   "metadata": {},
   "outputs": [],
   "source": [
    "# 📦 Environment Setup & Imports\n",
    "import sys\n",
    "import pandas as pd\n",
    "import numpy as np\n",
    "import matplotlib.pyplot as plt\n",
    "import seaborn as sns\n",
    "import plotly.express as px\n",
    "import plotly.graph_objects as go\n",
    "from plotly.subplots import make_subplots\n",
    "import warnings\n",
    "from pathlib import Path\n",
    "from typing import Dict, List, Tuple, Optional, Union\n",
    "import logging\n",
    "\n",
    "# Project modules\n",
    "sys.path.append('../src')\n",
    "from ingest import HospitalDataLoader\n",
    "\n",
    "# Configuration\n",
    "warnings.filterwarnings('ignore')\n",
    "plt.style.use('seaborn-v0_8-whitegrid')\n",
    "sns.set_palette(\"husl\")\n",
    "\n",
    "# Logging setup\n",
    "logging.basicConfig(level=logging.INFO, format='%(asctime)s - %(levelname)s - %(message)s')\n",
    "logger = logging.getLogger(__name__)\n",
    "\n",
    "# Display options\n",
    "pd.set_option('display.max_columns', None)\n",
    "pd.set_option('display.max_rows', 100)\n",
    "pd.set_option('display.precision', 2)\n",
    "\n",
    "print(\"🔧 Environment setup complete!\")\n",
    "print(f\"📊 Pandas version: {pd.__version__}\")\n",
    "print(f\"📈 NumPy version: {np.__version__}\")\n",
    "print(f\"🎨 Matplotlib version: {plt.matplotlib.__version__}\")\n",
    "print(f\"📱 Plotly available: {px.__version__}\")\n"
   ]
  },
  {
   "cell_type": "raw",
   "metadata": {
    "vscode": {
     "languageId": "raw"
    }
   },
   "source": [
    "## 🔄 Data Loading & Initial Exploration\n",
    "\n",
    "Let's start by loading our comprehensive 21-year dataset and understanding its structure.\n"
   ]
  }
 ],
 "metadata": {
  "language_info": {
   "name": "python"
  }
 },
 "nbformat": 4,
 "nbformat_minor": 2
}
